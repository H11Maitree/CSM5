{
 "cells": [
  {
   "cell_type": "code",
   "execution_count": 1,
   "metadata": {
    "scrolled": true
   },
   "outputs": [
    {
     "name": "stderr",
     "output_type": "stream",
     "text": [
      "Using TensorFlow backend.\n"
     ]
    },
    {
     "name": "stdout",
     "output_type": "stream",
     "text": [
      "_________________________________________________________________\n",
      "Layer (type)                 Output Shape              Param #   \n",
      "=================================================================\n",
      "flatten_1 (Flatten)          (None, 784)               0         \n",
      "_________________________________________________________________\n",
      "dense_1 (Dense)              (None, 350)               274750    \n",
      "_________________________________________________________________\n",
      "dense_2 (Dense)              (None, 10)                3510      \n",
      "=================================================================\n",
      "Total params: 278,260\n",
      "Trainable params: 278,260\n",
      "Non-trainable params: 0\n",
      "_________________________________________________________________\n"
     ]
    }
   ],
   "source": [
    "import numpy as np\n",
    "import matplotlib.pyplot as plt\n",
    "import keras as K\n",
    "from skimage import io\n",
    "from skimage.transform import resize\n",
    "\n",
    "model =K.models.load_model(\"MattModel.h5\")\n",
    "model.summary()"
   ]
  },
  {
   "cell_type": "code",
   "execution_count": 24,
   "metadata": {
    "collapsed": true
   },
   "outputs": [],
   "source": [
    "def prd(imageinput):\n",
    "    img28=np.abs(1-resize(imageinput,(28,28),mode='constant'))\n",
    "    img28=(img28[:,:,0]*0.3+img28[:,:,1]*0.6+img28[:,:,2]*0.1)\n",
    "    plt.imshow(img28,cmap='gray')\n",
    "    #plt.show()\n",
    "    imgp=img28.reshape((1,28,28))\n",
    "    L = model.predict(imgp)\n",
    "    plt.show()\n",
    "    return np.argmax(L[0])"
   ]
  },
  {
   "cell_type": "code",
   "execution_count": 3,
   "metadata": {
    "collapsed": true
   },
   "outputs": [],
   "source": [
    "def rea(path):\n",
    "    return io.imread(path)"
   ]
  },
  {
   "cell_type": "code",
   "execution_count": 4,
   "metadata": {
    "collapsed": true
   },
   "outputs": [],
   "source": [
    "pic=rea(\"11.png\")"
   ]
  },
  {
   "cell_type": "code",
   "execution_count": 5,
   "metadata": {
    "scrolled": true
   },
   "outputs": [
    {
     "data": {
      "text/plain": [
       "(648, 1152, 3)"
      ]
     },
     "execution_count": 5,
     "metadata": {},
     "output_type": "execute_result"
    }
   ],
   "source": [
    "pic.shape"
   ]
  },
  {
   "cell_type": "code",
   "execution_count": 6,
   "metadata": {
    "collapsed": true
   },
   "outputs": [],
   "source": [
    "def findrangeoflist(var):\n",
    "    cymask=(var>0)\n",
    "    nowcontinewus=False\n",
    "    locatey=list()\n",
    "    for i in range(len(cymask)):\n",
    "        if cymask[i]==True and nowcontinewus==False:\n",
    "            nowcontinewus=True\n",
    "            la=locatey.append([i,0])\n",
    "        elif cymask[i]==True and nowcontinewus==True:\n",
    "            locatey[len(locatey)-1][1]=locatey[len(locatey)-1][1]+1\n",
    "        elif cymask[i]==False and nowcontinewus==True:\n",
    "            nowcontinewus=False\n",
    "    return locatey"
   ]
  },
  {
   "cell_type": "code",
   "execution_count": 7,
   "metadata": {
    "collapsed": true
   },
   "outputs": [],
   "source": [
    "picbi=((pic[:,:,0]+pic[:,:,1]+pic[:,:,2])==0)"
   ]
  },
  {
   "cell_type": "code",
   "execution_count": 8,
   "metadata": {
    "collapsed": true
   },
   "outputs": [],
   "source": [
    "arsy=np.zeros(picbi.shape[0])\n",
    "for y in range(picbi.shape[0]):\n",
    "    arsy[y]=np.sum(picbi[y,:])\n",
    "    #print(arsx[x])"
   ]
  },
  {
   "cell_type": "code",
   "execution_count": 9,
   "metadata": {
    "scrolled": true
   },
   "outputs": [
    {
     "data": {
      "text/plain": [
       "array([  0.,   0.,   0.,   0.,   0.,   0.,   0.,   0.,   0.,   0.,   0.,\n",
       "         0.,   0.,   0.,   0.,   0.,   0.,  19.,  30.,  38.,  45.,  49.,\n",
       "        57.,  61.,  66.,  70.,  73.,  77.,  81.,  86., 102., 109., 136.,\n",
       "       155., 304., 316., 324., 332., 338., 346., 351., 358., 363., 367.,\n",
       "       373., 376., 381., 383., 386., 389., 393., 396., 382., 374., 373.,\n",
       "       371., 366., 360., 359., 353., 353., 348., 346., 341., 340., 338.,\n",
       "       334., 311., 291., 174., 173., 170., 171., 170., 169., 168., 168.,\n",
       "       169., 167., 167., 169., 167., 168., 167., 165., 166., 164., 163.,\n",
       "       162., 160., 158., 155., 155., 154., 153., 150., 151., 151., 150.,\n",
       "       151., 151., 151., 152., 152., 149., 148., 151., 149., 147., 148.,\n",
       "       147., 148., 149., 147., 148., 148., 148., 148., 148., 150., 148.,\n",
       "       151., 150., 148., 150., 149., 149., 147., 147., 147., 145., 146.,\n",
       "       146., 146., 145., 145., 144., 145., 145., 146., 144., 146., 147.,\n",
       "       146., 146., 146., 145., 146., 147., 147., 146., 146., 147., 146.,\n",
       "       146., 148., 147., 146., 147., 148., 146., 147., 147., 144., 144.,\n",
       "       147., 146., 146., 145., 146., 145., 143., 144., 144., 143., 143.,\n",
       "       143., 142., 142., 143., 144., 144., 146., 145., 145., 146., 146.,\n",
       "       146., 147., 146., 145., 145., 145., 144., 145., 145., 145., 145.,\n",
       "       147., 146., 147., 147., 147., 149., 149., 147., 149., 147., 148.,\n",
       "       180., 196., 204., 211., 220., 226., 227., 231., 232., 234., 235.,\n",
       "       237., 239., 241., 244., 244., 246., 247., 246., 248., 250., 248.,\n",
       "       249., 250., 250., 251., 251., 251., 253., 254., 255., 257., 257.,\n",
       "       258., 259., 225., 218., 212., 208., 204., 203., 203., 202., 199.,\n",
       "       199., 199., 195., 195., 195., 197., 196., 195., 195., 192., 192.,\n",
       "       193., 191., 192., 193., 192., 197., 195., 198., 197., 199., 203.,\n",
       "       205., 206., 210., 213., 216., 221., 243., 237., 237., 235., 236.,\n",
       "       235., 235., 232., 231., 231., 229., 228., 226., 232., 237., 248.,\n",
       "       244., 240., 237., 230., 226., 222., 217., 210., 203., 197., 190.,\n",
       "       182., 175., 169., 164., 156., 146., 137., 122.,  85.,  83.,  80.,\n",
       "        78.,  75.,  74.,  71.,  68.,  64.,  60.,  56.,  51.,  42.,  32.,\n",
       "        23.,   0.,   0.,   0.,   0.,   0.,   0.,   0.,   0.,   0.,   0.,\n",
       "         0.,   0.,   0.,   0.,   0.,   0.,   0.,   0.,   0.,  41.,  53.,\n",
       "        61.,  68.,  76.,  79.,  85.,  89.,  93., 107., 114., 122., 127.,\n",
       "       132., 136., 140., 144., 147., 151., 154., 158., 160., 163., 165.,\n",
       "       166., 169., 171., 174., 175., 177., 178., 179., 180., 180., 182.,\n",
       "       142., 138., 134., 131., 128., 125., 125., 123., 123., 122., 122.,\n",
       "       120., 121., 121., 122., 120., 121., 123., 123., 124., 125., 125.,\n",
       "       126., 127., 128., 129., 129., 131., 131., 133., 133., 135., 136.,\n",
       "       137., 139., 139., 141., 143., 143., 145., 147., 147., 150., 149.,\n",
       "       151., 151., 153., 152., 150., 152., 151., 153., 153., 155., 157.,\n",
       "       157., 157., 158., 159., 160., 159., 160., 159., 160., 160., 159.,\n",
       "       161., 159., 160., 160., 158., 158., 159., 160., 160., 160., 162.,\n",
       "       162., 162., 163., 163., 166., 166., 167., 168., 167., 168., 169.,\n",
       "       168., 171., 171., 172., 171., 171., 173., 173., 176., 174., 173.,\n",
       "       171., 169., 167., 166., 166., 165., 163., 162., 161., 160., 159.,\n",
       "       157., 156., 153., 152., 150., 148., 147., 148., 148., 151., 152.,\n",
       "       157., 159., 159., 161., 162., 163., 164., 166., 167., 168., 177.,\n",
       "       229., 322., 339., 343., 347., 351., 353., 354., 351., 351., 350.,\n",
       "       349., 347., 344., 342., 341., 340., 337., 336., 336., 333., 332.,\n",
       "       329., 327., 325., 323., 320., 316., 313., 305., 301., 294., 286.,\n",
       "       266., 250., 203., 109., 108., 107., 108., 107., 105., 106., 106.,\n",
       "       106., 105., 105., 105., 105., 105., 105., 106., 106., 105., 105.,\n",
       "       104., 104., 105., 105., 105., 105., 105., 106., 106., 107., 107.,\n",
       "       108., 109., 109., 110., 111., 111., 113., 113., 114., 115., 115.,\n",
       "       116., 118., 120., 123., 125., 131., 135., 142., 146., 168., 168.,\n",
       "       166., 164., 163., 162., 161., 160., 158., 155., 154., 152., 150.,\n",
       "       147., 144., 142., 140., 139., 138., 135., 132., 129., 126., 122.,\n",
       "       119., 115., 109., 103.,  98.,  93.,  88.,  83.,  75.,  67.,  50.,\n",
       "        29.,  27.,  25.,  24.,  21.,  19.,  16.,  12.,   3.,   0.])"
      ]
     },
     "execution_count": 9,
     "metadata": {},
     "output_type": "execute_result"
    }
   ],
   "source": [
    "arsy"
   ]
  },
  {
   "cell_type": "code",
   "execution_count": 10,
   "metadata": {
    "scrolled": true
   },
   "outputs": [
    {
     "name": "stdout",
     "output_type": "stream",
     "text": [
      "[[17, 313], [350, 296]]\n"
     ]
    }
   ],
   "source": [
    "arsy=findrangeoflist(arsy)\n",
    "print(arsy)"
   ]
  },
  {
   "cell_type": "code",
   "execution_count": 11,
   "metadata": {
    "scrolled": true
   },
   "outputs": [
    {
     "name": "stdout",
     "output_type": "stream",
     "text": [
      "[[34, 233], [392, 204], [744, 162]]\n",
      "[[244, 160], [526, 249]]\n",
      "[[17, 313, 34, 233], [17, 313, 392, 204], [17, 313, 744, 162], [350, 296, 244, 160], [350, 296, 526, 249]]\n"
     ]
    }
   ],
   "source": [
    "# y y+ x x+\n",
    "finalra=list()\n",
    "for i in range(len(arsy)):\n",
    "    arsx=np.zeros(picbi.shape[1])\n",
    "    for x in range(picbi.shape[1]):\n",
    "        arsx[x]=np.sum(picbi[arsy[i][0]:arsy[i][0]+arsy[i][1],x])\n",
    "    arsx=findrangeoflist(arsx)\n",
    "    print(arsx)\n",
    "    for x in range(len(arsx)):\n",
    "        #finalra.append(0)\n",
    "        finalra.append([arsy[i][0],arsy[i][1],arsx[x][0],arsx[x][1]])\n",
    "print(finalra)"
   ]
  },
  {
   "cell_type": "code",
   "execution_count": 12,
   "metadata": {},
   "outputs": [],
   "source": [
    "def arrangeitnow(pii):\n",
    "    xx=pii.shape[1]\n",
    "    yy=pii.shape[0]\n",
    "    ou=np.full((max(xx,yy), max(xx,yy),3), 255)\n",
    "    ou[:yy,:xx]=pii\n",
    "    plt.imshow(ou)\n",
    "    print(ou)\n",
    "    return ou"
   ]
  },
  {
   "cell_type": "code",
   "execution_count": 26,
   "metadata": {
    "scrolled": false
   },
   "outputs": [
    {
     "data": {
      "image/png": "[encoded data removed]",
      "text/plain": [
       "<matplotlib.figure.Figure at 0x7fa754764048>"
      ]
     },
     "metadata": {},
     "output_type": "display_data"
    },
    {
     "data": {
      "image/png": "[encoded data removed]",
      "text/plain": [
       "<matplotlib.figure.Figure at 0x7fa7946d3fd0>"
      ]
     },
     "metadata": {},
     "output_type": "display_data"
    },
    {
     "name": "stdout",
     "output_type": "stream",
     "text": [
      "2\n",
      "-----------------------------------------------------\n"
     ]
    },
    {
     "data": {
      "image/png": "[encoded data removed]",
      "text/plain": [
       "<matplotlib.figure.Figure at 0x7fa7946caf28>"
      ]
     },
     "metadata": {},
     "output_type": "display_data"
    },
    {
     "data": {
      "image/png": "[encoded data removed]",
      "text/plain": [
       "<matplotlib.figure.Figure at 0x7fa7706e32b0>"
      ]
     },
     "metadata": {},
     "output_type": "display_data"
    },
    {
     "name": "stdout",
     "output_type": "stream",
     "text": [
      "2\n",
      "-----------------------------------------------------\n"
     ]
    },
    {
     "data": {
      "image/png": "[encoded data removed]",
      "text/plain": [
       "<matplotlib.figure.Figure at 0x7fa7946cac18>"
      ]
     },
     "metadata": {},
     "output_type": "display_data"
    },
    {
     "data": {
      "image/png": "[encoded data removed]",
      "text/plain": [
       "<matplotlib.figure.Figure at 0x7fa7ec6cf0f0>"
      ]
     },
     "metadata": {},
     "output_type": "display_data"
    },
    {
     "name": "stdout",
     "output_type": "stream",
     "text": [
      "2\n",
      "-----------------------------------------------------\n"
     ]
    },
    {
     "data": {
      "image/png": "[encoded data removed]",
      "text/plain": [
       "<matplotlib.figure.Figure at 0x7fa7707bd630>"
      ]
     },
     "metadata": {},
     "output_type": "display_data"
    },
    {
     "data": {
      "image/png": "[encoded data removed]",
      "text/plain": [
       "<matplotlib.figure.Figure at 0x7fa75469eac8>"
      ]
     },
     "metadata": {},
     "output_type": "display_data"
    },
    {
     "name": "stdout",
     "output_type": "stream",
     "text": [
      "3\n",
      "-----------------------------------------------------\n"
     ]
    },
    {
     "data": {
      "image/png": "[encoded data removed]",
      "text/plain": [
       "<matplotlib.figure.Figure at 0x7fa7e464c908>"
      ]
     },
     "metadata": {},
     "output_type": "display_data"
    },
    {
     "data": {
      "image/png": "[encoded data removed]",
      "text/plain": [
       "<matplotlib.figure.Figure at 0x7fa770778588>"
      ]
     },
     "metadata": {},
     "output_type": "display_data"
    },
    {
     "name": "stdout",
     "output_type": "stream",
     "text": [
      "2\n",
      "-----------------------------------------------------\n"
     ]
    }
   ],
   "source": [
    "for i in range(len(finalra)):\n",
    "    plt.imshow(pic[finalra[i][0]:finalra[i][0]+finalra[i][1],finalra[i][2]:finalra[i][2]+finalra[i][3]],cmap='gray')\n",
    "    plt.show()\n",
    "    print(prd((pic[finalra[i][0]:finalra[i][0]+finalra[i][1],finalra[i][2]:finalra[i][2]+finalra[i][3]])))\n",
    "    print(\"-----------------------------------------------------\")"
   ]
  },
  {
   "cell_type": "code",
   "execution_count": 27,
   "metadata": {},
   "outputs": [
    {
     "data": {
      "image/png": "[encoded data removed]",
      "text/plain": [
       "<matplotlib.figure.Figure at 0x7fa7947f6dd8>"
      ]
     },
     "metadata": {},
     "output_type": "display_data"
    }
   ],
   "source": [
    "plt.imshow(pic,cmap='gray')\n",
    "plt.show()\n",
    "plt.close()"
   ]
  }
 ],
 "metadata": {
  "kernelspec": {
   "display_name": "Python 3",
   "language": "python",
   "name": "python3"
  },
  "language_info": {
   "codemirror_mode": {
    "name": "ipython",
    "version": 3
   },
   "file_extension": ".py",
   "mimetype": "text/x-python",
   "name": "python",
   "nbconvert_exporter": "python",
   "pygments_lexer": "ipython3",
   "version": "3.6.3"
  }
 },
 "nbformat": 4,
 "nbformat_minor": 2
}
